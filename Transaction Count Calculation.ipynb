{
 "cells": [
  {
   "cell_type": "markdown",
   "id": "38ae74b2",
   "metadata": {},
   "source": [
    "In this notebook, we are going to calculate transaction count, aggregate it to hourly data and train an estimator to predict Tx count."
   ]
  },
  {
   "cell_type": "code",
   "execution_count": 1,
   "id": "wrapped-ireland",
   "metadata": {
    "ExecuteTime": {
     "end_time": "2022-07-09T06:55:21.203708Z",
     "start_time": "2022-07-09T06:55:20.303317Z"
    }
   },
   "outputs": [],
   "source": [
    "import requests\n",
    "import traceback\n",
    "import time\n",
    "import json\n",
    "import pandas as pd\n",
    "import matplotlib.pyplot as plt\n",
    "from collections import OrderedDict\n",
    "import os\n",
    "import numpy as np"
   ]
  },
  {
   "cell_type": "markdown",
   "id": "double-adolescent",
   "metadata": {},
   "source": [
    "## Import data from files"
   ]
  },
  {
   "cell_type": "code",
   "execution_count": 2,
   "id": "positive-governor",
   "metadata": {
    "ExecuteTime": {
     "end_time": "2022-07-09T06:55:21.624653Z",
     "start_time": "2022-07-09T06:55:21.618653Z"
    }
   },
   "outputs": [],
   "source": [
    "# This function reads data from file\n",
    "# extracts necessary columns for tx count calculation\n",
    "# drops remaining block info to reduce memory consumption\n",
    "def load_df_from_file(file_name):\n",
    "    dataFile = open(file_name)\n",
    "    raw =  json.loads(dataFile.read())\n",
    "    dataFile.close()\n",
    "    df = pd.DataFrame(raw)\n",
    "    # extract height from header\n",
    "    df['height'] = df['header'].apply(lambda row: row['height'])\n",
    "    # extract timestamp from header\n",
    "    df['timestamp'] =  df['header'].apply(lambda header: header['timestamp'])\n",
    "    # extract number of kernels from kernels\n",
    "    df['n_kernels'] = df['kernels'].apply(lambda entry : len(entry))\n",
    "    # extract features from kernels\n",
    "    df['features']  = df['kernels'].apply(lambda kernels : [kernel['features'] for kernel in kernels ])\n",
    "    df.set_index(pd.to_datetime(df['timestamp']),inplace = True)\n",
    "    return df[['height','n_kernels','features']]"
   ]
  },
  {
   "cell_type": "markdown",
   "id": "2ed9707c",
   "metadata": {},
   "source": [
    "Download and extract all the files from releases section before running next step"
   ]
  },
  {
   "cell_type": "code",
   "execution_count": 3,
   "id": "answering-satin",
   "metadata": {
    "ExecuteTime": {
     "end_time": "2022-07-09T06:56:57.228150Z",
     "start_time": "2022-07-09T06:55:24.681342Z"
    }
   },
   "outputs": [],
   "source": [
    "df = pd.concat([\n",
    "    load_df_from_file('grinblockdata-1-100000.json'),\n",
    "    load_df_from_file('grinblockdata-100001-200000.json'),\n",
    "    load_df_from_file('grinblockdata-200001-300000.json'),\n",
    "    load_df_from_file('grinblockdata-300001-400000.json'),\n",
    "    load_df_from_file('grinblockdata-400001-500000.json'),\n",
    "    load_df_from_file('grinblockdata-500001-600000.json'),\n",
    "    load_df_from_file('grinblockdata-600001-700000.json'),\n",
    "    load_df_from_file('grinblockdata-700001-800000.json'),\n",
    "    load_df_from_file('grinblockdata-800001-900000.json'),\n",
    "    load_df_from_file('grinblockdata-900001-1000000.json'),\n",
    "    load_df_from_file('grinblockdata-1000001-1100000.json'),\n",
    "    load_df_from_file('grinblockdata-1100001-1200000.json'),\n",
    "    load_df_from_file('grinblockdata-1200001-1300000.json'),\n",
    "    load_df_from_file('grinblockdata-1300001-1400000.json'),\n",
    "    load_df_from_file('grinblockdata-1400001-1500000.json'),\n",
    "    load_df_from_file('grinblockdata-1500001-1600000.json'),\n",
    "    load_df_from_file('grinblockdata-1600001-1700000.json'),\n",
    "    load_df_from_file('grinblockdata-1700001-1800000.json'),\n",
    "])"
   ]
  },
  {
   "cell_type": "code",
   "execution_count": 4,
   "id": "single-cassette",
   "metadata": {
    "ExecuteTime": {
     "end_time": "2022-07-09T06:56:57.259766Z",
     "start_time": "2022-07-09T06:56:57.230150Z"
    }
   },
   "outputs": [
    {
     "data": {
      "text/html": [
       "<div>\n",
       "<style scoped>\n",
       "    .dataframe tbody tr th:only-of-type {\n",
       "        vertical-align: middle;\n",
       "    }\n",
       "\n",
       "    .dataframe tbody tr th {\n",
       "        vertical-align: top;\n",
       "    }\n",
       "\n",
       "    .dataframe thead th {\n",
       "        text-align: right;\n",
       "    }\n",
       "</style>\n",
       "<table border=\"1\" class=\"dataframe\">\n",
       "  <thead>\n",
       "    <tr style=\"text-align: right;\">\n",
       "      <th></th>\n",
       "      <th>height</th>\n",
       "      <th>n_kernels</th>\n",
       "      <th>features</th>\n",
       "    </tr>\n",
       "    <tr>\n",
       "      <th>timestamp</th>\n",
       "      <th></th>\n",
       "      <th></th>\n",
       "      <th></th>\n",
       "    </tr>\n",
       "  </thead>\n",
       "  <tbody>\n",
       "    <tr>\n",
       "      <th>2019-01-15 17:38:05+00:00</th>\n",
       "      <td>1</td>\n",
       "      <td>1</td>\n",
       "      <td>[Coinbase]</td>\n",
       "    </tr>\n",
       "    <tr>\n",
       "      <th>2019-01-15 17:38:57+00:00</th>\n",
       "      <td>2</td>\n",
       "      <td>1</td>\n",
       "      <td>[Coinbase]</td>\n",
       "    </tr>\n",
       "    <tr>\n",
       "      <th>2019-01-15 17:54:47+00:00</th>\n",
       "      <td>3</td>\n",
       "      <td>1</td>\n",
       "      <td>[Coinbase]</td>\n",
       "    </tr>\n",
       "    <tr>\n",
       "      <th>2019-01-15 17:54:52+00:00</th>\n",
       "      <td>4</td>\n",
       "      <td>1</td>\n",
       "      <td>[Coinbase]</td>\n",
       "    </tr>\n",
       "    <tr>\n",
       "      <th>2019-01-15 18:17:09+00:00</th>\n",
       "      <td>5</td>\n",
       "      <td>1</td>\n",
       "      <td>[Coinbase]</td>\n",
       "    </tr>\n",
       "    <tr>\n",
       "      <th>...</th>\n",
       "      <td>...</td>\n",
       "      <td>...</td>\n",
       "      <td>...</td>\n",
       "    </tr>\n",
       "    <tr>\n",
       "      <th>2022-06-23 09:58:55+00:00</th>\n",
       "      <td>1799996</td>\n",
       "      <td>2</td>\n",
       "      <td>[Plain, Coinbase]</td>\n",
       "    </tr>\n",
       "    <tr>\n",
       "      <th>2022-06-23 09:59:00+00:00</th>\n",
       "      <td>1799997</td>\n",
       "      <td>1</td>\n",
       "      <td>[Coinbase]</td>\n",
       "    </tr>\n",
       "    <tr>\n",
       "      <th>2022-06-23 09:59:22+00:00</th>\n",
       "      <td>1799998</td>\n",
       "      <td>1</td>\n",
       "      <td>[Coinbase]</td>\n",
       "    </tr>\n",
       "    <tr>\n",
       "      <th>2022-06-23 10:00:29+00:00</th>\n",
       "      <td>1799999</td>\n",
       "      <td>1</td>\n",
       "      <td>[Coinbase]</td>\n",
       "    </tr>\n",
       "    <tr>\n",
       "      <th>2022-06-23 10:01:56+00:00</th>\n",
       "      <td>1800000</td>\n",
       "      <td>3</td>\n",
       "      <td>[Coinbase, Plain, Plain]</td>\n",
       "    </tr>\n",
       "  </tbody>\n",
       "</table>\n",
       "<p>1800000 rows × 3 columns</p>\n",
       "</div>"
      ],
      "text/plain": [
       "                            height  n_kernels                  features\n",
       "timestamp                                                              \n",
       "2019-01-15 17:38:05+00:00        1          1                [Coinbase]\n",
       "2019-01-15 17:38:57+00:00        2          1                [Coinbase]\n",
       "2019-01-15 17:54:47+00:00        3          1                [Coinbase]\n",
       "2019-01-15 17:54:52+00:00        4          1                [Coinbase]\n",
       "2019-01-15 18:17:09+00:00        5          1                [Coinbase]\n",
       "...                            ...        ...                       ...\n",
       "2022-06-23 09:58:55+00:00  1799996          2         [Plain, Coinbase]\n",
       "2022-06-23 09:59:00+00:00  1799997          1                [Coinbase]\n",
       "2022-06-23 09:59:22+00:00  1799998          1                [Coinbase]\n",
       "2022-06-23 10:00:29+00:00  1799999          1                [Coinbase]\n",
       "2022-06-23 10:01:56+00:00  1800000          3  [Coinbase, Plain, Plain]\n",
       "\n",
       "[1800000 rows x 3 columns]"
      ]
     },
     "execution_count": 4,
     "metadata": {},
     "output_type": "execute_result"
    }
   ],
   "source": [
    "df"
   ]
  },
  {
   "cell_type": "markdown",
   "id": "tired-percentage",
   "metadata": {},
   "source": [
    "## Calculate transaction counts"
   ]
  },
  {
   "cell_type": "markdown",
   "id": "motivated-credits",
   "metadata": {},
   "source": [
    "To determine transaction count for each block, we need number of kernels, since each block has a coinbase we need to drop 1 from number of kernels"
   ]
  },
  {
   "cell_type": "markdown",
   "id": "6e756f63",
   "metadata": {},
   "source": [
    "### Check if every block has a single coinbase kernel"
   ]
  },
  {
   "cell_type": "code",
   "execution_count": 5,
   "id": "handy-pulse",
   "metadata": {
    "ExecuteTime": {
     "end_time": "2022-07-09T06:56:57.275765Z",
     "start_time": "2022-07-09T06:56:57.261769Z"
    }
   },
   "outputs": [],
   "source": [
    "#To check if each block has only one coinbase kernel define a function\n",
    "def f_check_Coinbase_is_single(features):\n",
    "    (el,count) = np.unique(features,return_counts=True)\n",
    "    d = dict(zip(el,count))\n",
    "    return d['Coinbase'] == 1"
   ]
  },
  {
   "cell_type": "code",
   "execution_count": 6,
   "id": "accomplished-anchor",
   "metadata": {
    "ExecuteTime": {
     "end_time": "2022-07-09T06:56:57.291764Z",
     "start_time": "2022-07-09T06:56:57.278783Z"
    }
   },
   "outputs": [
    {
     "data": {
      "text/plain": [
       "True"
      ]
     },
     "execution_count": 6,
     "metadata": {},
     "output_type": "execute_result"
    }
   ],
   "source": [
    "f_check_Coinbase_is_single(['Coinbase', 'Plain', 'Plain'])"
   ]
  },
  {
   "cell_type": "markdown",
   "id": "opponent-pound",
   "metadata": {},
   "source": [
    "Apply function to features_column"
   ]
  },
  {
   "cell_type": "code",
   "execution_count": 7,
   "id": "authorized-wrestling",
   "metadata": {
    "ExecuteTime": {
     "end_time": "2022-07-09T06:57:34.696072Z",
     "start_time": "2022-07-09T06:56:57.292766Z"
    }
   },
   "outputs": [
    {
     "data": {
      "text/plain": [
       "timestamp\n",
       "2019-01-15 17:38:05+00:00    True\n",
       "2019-01-15 17:38:57+00:00    True\n",
       "2019-01-15 17:54:47+00:00    True\n",
       "2019-01-15 17:54:52+00:00    True\n",
       "2019-01-15 18:17:09+00:00    True\n",
       "                             ... \n",
       "2022-06-23 09:58:55+00:00    True\n",
       "2022-06-23 09:59:00+00:00    True\n",
       "2022-06-23 09:59:22+00:00    True\n",
       "2022-06-23 10:00:29+00:00    True\n",
       "2022-06-23 10:01:56+00:00    True\n",
       "Name: features, Length: 1800000, dtype: bool"
      ]
     },
     "execution_count": 7,
     "metadata": {},
     "output_type": "execute_result"
    }
   ],
   "source": [
    "check_array = df['features'].apply(f_check_Coinbase_is_single)\n",
    "check_array"
   ]
  },
  {
   "cell_type": "code",
   "execution_count": 8,
   "id": "perceived-helen",
   "metadata": {
    "ExecuteTime": {
     "end_time": "2022-07-09T06:57:34.712113Z",
     "start_time": "2022-07-09T06:57:34.697053Z"
    }
   },
   "outputs": [
    {
     "data": {
      "text/plain": [
       "True"
      ]
     },
     "execution_count": 8,
     "metadata": {},
     "output_type": "execute_result"
    }
   ],
   "source": [
    "# Is all elements in check_array True?\n",
    "check_array.all()"
   ]
  },
  {
   "cell_type": "markdown",
   "id": "consolidated-arcade",
   "metadata": {},
   "source": [
    "Now we can drop 1 for Coinbase from n_kernels to calculate tx count"
   ]
  },
  {
   "cell_type": "markdown",
   "id": "8eb5b5cf",
   "metadata": {},
   "source": [
    "### Calculate tx_count"
   ]
  },
  {
   "cell_type": "code",
   "execution_count": 9,
   "id": "deluxe-spirituality",
   "metadata": {
    "ExecuteTime": {
     "end_time": "2022-07-09T06:57:34.743616Z",
     "start_time": "2022-07-09T06:57:34.714624Z"
    }
   },
   "outputs": [
    {
     "data": {
      "text/plain": [
       "timestamp\n",
       "2019-01-15 17:38:05+00:00    0\n",
       "2019-01-15 17:38:57+00:00    0\n",
       "2019-01-15 17:54:47+00:00    0\n",
       "2019-01-15 17:54:52+00:00    0\n",
       "2019-01-15 18:17:09+00:00    0\n",
       "                            ..\n",
       "2022-06-23 09:58:55+00:00    1\n",
       "2022-06-23 09:59:00+00:00    0\n",
       "2022-06-23 09:59:22+00:00    0\n",
       "2022-06-23 10:00:29+00:00    0\n",
       "2022-06-23 10:01:56+00:00    2\n",
       "Name: tx_count, Length: 1800000, dtype: int64"
      ]
     },
     "execution_count": 9,
     "metadata": {},
     "output_type": "execute_result"
    }
   ],
   "source": [
    "df['tx_count'] = df['n_kernels'] -1\n",
    "df['tx_count']\n"
   ]
  },
  {
   "cell_type": "markdown",
   "id": "burning-acoustic",
   "metadata": {},
   "source": [
    "Let's calculate frequency of tx counts"
   ]
  },
  {
   "cell_type": "code",
   "execution_count": 10,
   "id": "floppy-defeat",
   "metadata": {
    "ExecuteTime": {
     "end_time": "2022-07-09T06:57:34.963450Z",
     "start_time": "2022-07-09T06:57:34.745145Z"
    },
    "scrolled": true
   },
   "outputs": [
    {
     "name": "stdout",
     "output_type": "stream",
     "text": [
      "number of blocks with  0 tx: 1142810 (63.5 %)\n",
      "number of blocks with  1 tx:  324768 (18.0 %)\n",
      "number of blocks with  2 tx:  136024 ( 7.6 %)\n",
      "number of blocks with  3 tx:   67098 ( 3.7 %)\n",
      "number of blocks with  4 tx:   37124 ( 2.1 %)\n",
      "number of blocks with  5 tx:   23800 ( 1.3 %)\n",
      "number of blocks with  6 tx:   15768 ( 0.9 %)\n",
      "number of blocks with  7 tx:   11199 ( 0.6 %)\n",
      "number of blocks with  8 tx:    8140 ( 0.5 %)\n",
      "number of blocks with  9 tx:    5990 ( 0.3 %)\n",
      "number of blocks with 10 tx:    4587 ( 0.3 %)\n",
      "number of blocks with 11 tx:    3657 ( 0.2 %)\n",
      "number of blocks with 12 tx:    2979 ( 0.2 %)\n",
      "number of blocks with 13 tx:    2418 ( 0.1 %)\n",
      "number of blocks with 14 tx:    1941 ( 0.1 %)\n",
      "number of blocks with 15 tx:    1528 ( 0.1 %)\n",
      "number of blocks with 16 tx:    1316 ( 0.1 %)\n",
      "number of blocks with 17 tx:    1088 ( 0.1 %)\n",
      "number of blocks with 18 tx:     909 ( 0.1 %)\n",
      "number of blocks with 19 tx:     819 ( 0.0 %)\n",
      "number of blocks with 20 tx:     674 ( 0.0 %)\n",
      "number of blocks with 21 tx:     557 ( 0.0 %)\n",
      "number of blocks with 22 tx:     505 ( 0.0 %)\n",
      "number of blocks with 23 tx:     433 ( 0.0 %)\n",
      "number of blocks with 24 tx:     374 ( 0.0 %)\n",
      "number of blocks with 25 tx:     367 ( 0.0 %)\n",
      "number of blocks with 26 tx:     337 ( 0.0 %)\n",
      "number of blocks with 27 tx:     266 ( 0.0 %)\n",
      "number of blocks with 28 tx:     214 ( 0.0 %)\n",
      "number of blocks with 29 tx:     203 ( 0.0 %)\n",
      "number of blocks with 30 tx:     200 ( 0.0 %)\n",
      "number of blocks with 31 tx:     154 ( 0.0 %)\n",
      "number of blocks with 32 tx:     142 ( 0.0 %)\n",
      "number of blocks with 33 tx:     131 ( 0.0 %)\n",
      "number of blocks with 34 tx:     108 ( 0.0 %)\n",
      "number of blocks with 35 tx:     117 ( 0.0 %)\n",
      "number of blocks with 36 tx:     105 ( 0.0 %)\n",
      "number of blocks with 37 tx:      75 ( 0.0 %)\n",
      "number of blocks with 38 tx:      80 ( 0.0 %)\n",
      "number of blocks with 39 tx:      77 ( 0.0 %)\n",
      "number of blocks with 40 tx:      63 ( 0.0 %)\n",
      "number of blocks with 41 tx:      41 ( 0.0 %)\n",
      "number of blocks with 42 tx:      54 ( 0.0 %)\n",
      "number of blocks with 43 tx:      41 ( 0.0 %)\n",
      "number of blocks with 44 tx:      43 ( 0.0 %)\n",
      "number of blocks with 45 tx:      38 ( 0.0 %)\n",
      "number of blocks with 46 tx:      39 ( 0.0 %)\n",
      "number of blocks with 47 tx:      39 ( 0.0 %)\n",
      "number of blocks with 48 tx:      18 ( 0.0 %)\n",
      "number of blocks with 49 tx:      34 ( 0.0 %)\n",
      "number of blocks with 50 tx:      27 ( 0.0 %)\n",
      "number of blocks with 51 tx:      30 ( 0.0 %)\n",
      "number of blocks with 52 tx:      31 ( 0.0 %)\n",
      "number of blocks with 53 tx:      34 ( 0.0 %)\n",
      "number of blocks with 54 tx:      11 ( 0.0 %)\n",
      "number of blocks with 55 tx:      20 ( 0.0 %)\n",
      "number of blocks with 56 tx:      21 ( 0.0 %)\n",
      "number of blocks with 57 tx:      17 ( 0.0 %)\n",
      "number of blocks with 58 tx:       8 ( 0.0 %)\n",
      "number of blocks with 59 tx:      18 ( 0.0 %)\n",
      "number of blocks with 60 tx:      11 ( 0.0 %)\n",
      "number of blocks with 61 tx:      14 ( 0.0 %)\n",
      "number of blocks with 62 tx:      12 ( 0.0 %)\n",
      "number of blocks with 63 tx:      12 ( 0.0 %)\n",
      "number of blocks with 64 tx:      11 ( 0.0 %)\n",
      "number of blocks with 65 tx:      14 ( 0.0 %)\n",
      "number of blocks with 66 tx:      11 ( 0.0 %)\n",
      "number of blocks with 67 tx:      10 ( 0.0 %)\n",
      "number of blocks with 68 tx:      11 ( 0.0 %)\n",
      "number of blocks with 69 tx:       8 ( 0.0 %)\n",
      "number of blocks with 70 tx:      10 ( 0.0 %)\n",
      "number of blocks with 71 tx:       7 ( 0.0 %)\n",
      "number of blocks with 72 tx:      10 ( 0.0 %)\n",
      "number of blocks with 73 tx:       6 ( 0.0 %)\n",
      "number of blocks with 74 tx:       8 ( 0.0 %)\n",
      "number of blocks with 75 tx:       5 ( 0.0 %)\n",
      "number of blocks with 76 tx:       2 ( 0.0 %)\n",
      "number of blocks with 77 tx:       3 ( 0.0 %)\n",
      "number of blocks with 78 tx:       5 ( 0.0 %)\n",
      "number of blocks with 79 tx:       4 ( 0.0 %)\n",
      "number of blocks with 80 tx:       8 ( 0.0 %)\n",
      "number of blocks with 81 tx:       7 ( 0.0 %)\n",
      "number of blocks with 82 tx:       8 ( 0.0 %)\n",
      "number of blocks with 83 tx:       6 ( 0.0 %)\n",
      "number of blocks with 84 tx:       2 ( 0.0 %)\n",
      "number of blocks with 85 tx:       3 ( 0.0 %)\n",
      "number of blocks with 86 tx:       1 ( 0.0 %)\n",
      "number of blocks with 87 tx:       4 ( 0.0 %)\n",
      "number of blocks with 88 tx:       3 ( 0.0 %)\n",
      "number of blocks with 89 tx:       6 ( 0.0 %)\n",
      "number of blocks with 90 tx:       1 ( 0.0 %)\n",
      "number of blocks with 91 tx:       2 ( 0.0 %)\n",
      "number of blocks with 92 tx:       3 ( 0.0 %)\n",
      "number of blocks with 93 tx:       6 ( 0.0 %)\n",
      "number of blocks with 94 tx:       3 ( 0.0 %)\n",
      "number of blocks with 95 tx:       1 ( 0.0 %)\n",
      "number of blocks with 96 tx:       2 ( 0.0 %)\n",
      "number of blocks with 97 tx:       2 ( 0.0 %)\n",
      "number of blocks with 98 tx:       1 ( 0.0 %)\n",
      "number of blocks with 99 tx:       1 ( 0.0 %)\n",
      "number of blocks with 100 tx:       2 ( 0.0 %)\n",
      "number of blocks with 101 tx:       3 ( 0.0 %)\n",
      "number of blocks with 102 tx:       3 ( 0.0 %)\n",
      "number of blocks with 103 tx:       1 ( 0.0 %)\n",
      "number of blocks with 104 tx:       5 ( 0.0 %)\n",
      "number of blocks with 105 tx:       1 ( 0.0 %)\n",
      "number of blocks with 106 tx:       1 ( 0.0 %)\n",
      "number of blocks with 107 tx:       2 ( 0.0 %)\n",
      "number of blocks with 109 tx:       1 ( 0.0 %)\n",
      "number of blocks with 110 tx:       1 ( 0.0 %)\n",
      "number of blocks with 111 tx:       1 ( 0.0 %)\n",
      "number of blocks with 112 tx:       2 ( 0.0 %)\n",
      "number of blocks with 114 tx:       1 ( 0.0 %)\n",
      "number of blocks with 115 tx:       1 ( 0.0 %)\n",
      "number of blocks with 116 tx:       1 ( 0.0 %)\n",
      "number of blocks with 119 tx:       1 ( 0.0 %)\n",
      "number of blocks with 123 tx:       1 ( 0.0 %)\n",
      "number of blocks with 124 tx:       1 ( 0.0 %)\n",
      "number of blocks with 126 tx:       2 ( 0.0 %)\n",
      "number of blocks with 127 tx:       1 ( 0.0 %)\n",
      "number of blocks with 128 tx:       1 ( 0.0 %)\n",
      "number of blocks with 132 tx:       1 ( 0.0 %)\n",
      "number of blocks with 144 tx:       1 ( 0.0 %)\n",
      "number of blocks with 151 tx:       1 ( 0.0 %)\n",
      "number of blocks with 159 tx:       1 ( 0.0 %)\n",
      "number of blocks with 160 tx:       1 ( 0.0 %)\n",
      "number of blocks with 175 tx:       1 ( 0.0 %)\n",
      "number of blocks with 187 tx:       1 ( 0.0 %)\n",
      "number of blocks with 190 tx:       1 ( 0.0 %)\n",
      "number of blocks with 192 tx:       1 ( 0.0 %)\n",
      "number of blocks with 198 tx:       1 ( 0.0 %)\n",
      "number of blocks with 215 tx:       1 ( 0.0 %)\n",
      "number of blocks with 231 tx:       1 ( 0.0 %)\n",
      "number of blocks with 239 tx:       1 ( 0.0 %)\n",
      "number of blocks with 287 tx:       1 ( 0.0 %)\n"
     ]
    }
   ],
   "source": [
    "[count,frequency] = np.unique(df['tx_count'],return_counts=True)\n",
    "for e in zip(count,frequency):\n",
    "    print(f\"number of blocks with {e[0]:2} tx: {e[1]:7} ({e[1]/df['height'].max()*100:4.1f} %)\")"
   ]
  },
  {
   "cell_type": "markdown",
   "id": "developed-christianity",
   "metadata": {},
   "source": [
    "### Aggregate to hourly data"
   ]
  },
  {
   "cell_type": "code",
   "execution_count": 11,
   "id": "intended-journalist",
   "metadata": {
    "ExecuteTime": {
     "end_time": "2022-07-09T06:57:35.057120Z",
     "start_time": "2022-07-09T06:57:34.965451Z"
    }
   },
   "outputs": [
    {
     "data": {
      "text/html": [
       "<div>\n",
       "<style scoped>\n",
       "    .dataframe tbody tr th:only-of-type {\n",
       "        vertical-align: middle;\n",
       "    }\n",
       "\n",
       "    .dataframe tbody tr th {\n",
       "        vertical-align: top;\n",
       "    }\n",
       "\n",
       "    .dataframe thead th {\n",
       "        text-align: right;\n",
       "    }\n",
       "</style>\n",
       "<table border=\"1\" class=\"dataframe\">\n",
       "  <thead>\n",
       "    <tr style=\"text-align: right;\">\n",
       "      <th></th>\n",
       "      <th>height</th>\n",
       "      <th>tx_count</th>\n",
       "    </tr>\n",
       "    <tr>\n",
       "      <th>timestamp</th>\n",
       "      <th></th>\n",
       "      <th></th>\n",
       "    </tr>\n",
       "  </thead>\n",
       "  <tbody>\n",
       "    <tr>\n",
       "      <th>2019-01-15 17:00:00+00:00</th>\n",
       "      <td>4.0</td>\n",
       "      <td>0</td>\n",
       "    </tr>\n",
       "    <tr>\n",
       "      <th>2019-01-15 18:00:00+00:00</th>\n",
       "      <td>23.0</td>\n",
       "      <td>0</td>\n",
       "    </tr>\n",
       "    <tr>\n",
       "      <th>2019-01-15 19:00:00+00:00</th>\n",
       "      <td>55.0</td>\n",
       "      <td>0</td>\n",
       "    </tr>\n",
       "    <tr>\n",
       "      <th>2019-01-15 20:00:00+00:00</th>\n",
       "      <td>92.0</td>\n",
       "      <td>0</td>\n",
       "    </tr>\n",
       "    <tr>\n",
       "      <th>2019-01-15 21:00:00+00:00</th>\n",
       "      <td>151.0</td>\n",
       "      <td>0</td>\n",
       "    </tr>\n",
       "    <tr>\n",
       "      <th>...</th>\n",
       "      <td>...</td>\n",
       "      <td>...</td>\n",
       "    </tr>\n",
       "    <tr>\n",
       "      <th>2022-06-23 06:00:00+00:00</th>\n",
       "      <td>1799816.0</td>\n",
       "      <td>8</td>\n",
       "    </tr>\n",
       "    <tr>\n",
       "      <th>2022-06-23 07:00:00+00:00</th>\n",
       "      <td>1799878.0</td>\n",
       "      <td>7</td>\n",
       "    </tr>\n",
       "    <tr>\n",
       "      <th>2022-06-23 08:00:00+00:00</th>\n",
       "      <td>1799937.0</td>\n",
       "      <td>4</td>\n",
       "    </tr>\n",
       "    <tr>\n",
       "      <th>2022-06-23 09:00:00+00:00</th>\n",
       "      <td>1799998.0</td>\n",
       "      <td>7</td>\n",
       "    </tr>\n",
       "    <tr>\n",
       "      <th>2022-06-23 10:00:00+00:00</th>\n",
       "      <td>1800000.0</td>\n",
       "      <td>2</td>\n",
       "    </tr>\n",
       "  </tbody>\n",
       "</table>\n",
       "<p>30114 rows × 2 columns</p>\n",
       "</div>"
      ],
      "text/plain": [
       "                              height  tx_count\n",
       "timestamp                                     \n",
       "2019-01-15 17:00:00+00:00        4.0         0\n",
       "2019-01-15 18:00:00+00:00       23.0         0\n",
       "2019-01-15 19:00:00+00:00       55.0         0\n",
       "2019-01-15 20:00:00+00:00       92.0         0\n",
       "2019-01-15 21:00:00+00:00      151.0         0\n",
       "...                              ...       ...\n",
       "2022-06-23 06:00:00+00:00  1799816.0         8\n",
       "2022-06-23 07:00:00+00:00  1799878.0         7\n",
       "2022-06-23 08:00:00+00:00  1799937.0         4\n",
       "2022-06-23 09:00:00+00:00  1799998.0         7\n",
       "2022-06-23 10:00:00+00:00  1800000.0         2\n",
       "\n",
       "[30114 rows x 2 columns]"
      ]
     },
     "execution_count": 11,
     "metadata": {},
     "output_type": "execute_result"
    }
   ],
   "source": [
    "df_hourly = df.resample('1H', ).agg(\n",
    "    OrderedDict([\n",
    "        ('height', 'last'),\n",
    "        ('tx_count', 'sum')        \n",
    "    ]))\n",
    "df_hourly"
   ]
  },
  {
   "cell_type": "markdown",
   "id": "refined-relay",
   "metadata": {},
   "source": [
    "## Tx count prediction"
   ]
  },
  {
   "cell_type": "markdown",
   "id": "static-denial",
   "metadata": {
    "ExecuteTime": {
     "end_time": "2022-07-08T18:14:43.985484Z",
     "start_time": "2022-07-08T18:14:43.973501Z"
    }
   },
   "source": [
    "We will use hour as an input so let's extract it as a column."
   ]
  },
  {
   "cell_type": "code",
   "execution_count": 12,
   "id": "alternate-communication",
   "metadata": {
    "ExecuteTime": {
     "end_time": "2022-07-09T06:57:35.072651Z",
     "start_time": "2022-07-09T06:57:35.059649Z"
    }
   },
   "outputs": [
    {
     "data": {
      "text/html": [
       "<div>\n",
       "<style scoped>\n",
       "    .dataframe tbody tr th:only-of-type {\n",
       "        vertical-align: middle;\n",
       "    }\n",
       "\n",
       "    .dataframe tbody tr th {\n",
       "        vertical-align: top;\n",
       "    }\n",
       "\n",
       "    .dataframe thead th {\n",
       "        text-align: right;\n",
       "    }\n",
       "</style>\n",
       "<table border=\"1\" class=\"dataframe\">\n",
       "  <thead>\n",
       "    <tr style=\"text-align: right;\">\n",
       "      <th></th>\n",
       "      <th>height</th>\n",
       "      <th>tx_count</th>\n",
       "      <th>hour</th>\n",
       "    </tr>\n",
       "    <tr>\n",
       "      <th>timestamp</th>\n",
       "      <th></th>\n",
       "      <th></th>\n",
       "      <th></th>\n",
       "    </tr>\n",
       "  </thead>\n",
       "  <tbody>\n",
       "    <tr>\n",
       "      <th>2019-01-15 17:00:00+00:00</th>\n",
       "      <td>4.0</td>\n",
       "      <td>0</td>\n",
       "      <td>17</td>\n",
       "    </tr>\n",
       "    <tr>\n",
       "      <th>2019-01-15 18:00:00+00:00</th>\n",
       "      <td>23.0</td>\n",
       "      <td>0</td>\n",
       "      <td>18</td>\n",
       "    </tr>\n",
       "    <tr>\n",
       "      <th>2019-01-15 19:00:00+00:00</th>\n",
       "      <td>55.0</td>\n",
       "      <td>0</td>\n",
       "      <td>19</td>\n",
       "    </tr>\n",
       "    <tr>\n",
       "      <th>2019-01-15 20:00:00+00:00</th>\n",
       "      <td>92.0</td>\n",
       "      <td>0</td>\n",
       "      <td>20</td>\n",
       "    </tr>\n",
       "    <tr>\n",
       "      <th>2019-01-15 21:00:00+00:00</th>\n",
       "      <td>151.0</td>\n",
       "      <td>0</td>\n",
       "      <td>21</td>\n",
       "    </tr>\n",
       "    <tr>\n",
       "      <th>...</th>\n",
       "      <td>...</td>\n",
       "      <td>...</td>\n",
       "      <td>...</td>\n",
       "    </tr>\n",
       "    <tr>\n",
       "      <th>2022-06-23 06:00:00+00:00</th>\n",
       "      <td>1799816.0</td>\n",
       "      <td>8</td>\n",
       "      <td>6</td>\n",
       "    </tr>\n",
       "    <tr>\n",
       "      <th>2022-06-23 07:00:00+00:00</th>\n",
       "      <td>1799878.0</td>\n",
       "      <td>7</td>\n",
       "      <td>7</td>\n",
       "    </tr>\n",
       "    <tr>\n",
       "      <th>2022-06-23 08:00:00+00:00</th>\n",
       "      <td>1799937.0</td>\n",
       "      <td>4</td>\n",
       "      <td>8</td>\n",
       "    </tr>\n",
       "    <tr>\n",
       "      <th>2022-06-23 09:00:00+00:00</th>\n",
       "      <td>1799998.0</td>\n",
       "      <td>7</td>\n",
       "      <td>9</td>\n",
       "    </tr>\n",
       "    <tr>\n",
       "      <th>2022-06-23 10:00:00+00:00</th>\n",
       "      <td>1800000.0</td>\n",
       "      <td>2</td>\n",
       "      <td>10</td>\n",
       "    </tr>\n",
       "  </tbody>\n",
       "</table>\n",
       "<p>30114 rows × 3 columns</p>\n",
       "</div>"
      ],
      "text/plain": [
       "                              height  tx_count  hour\n",
       "timestamp                                           \n",
       "2019-01-15 17:00:00+00:00        4.0         0    17\n",
       "2019-01-15 18:00:00+00:00       23.0         0    18\n",
       "2019-01-15 19:00:00+00:00       55.0         0    19\n",
       "2019-01-15 20:00:00+00:00       92.0         0    20\n",
       "2019-01-15 21:00:00+00:00      151.0         0    21\n",
       "...                              ...       ...   ...\n",
       "2022-06-23 06:00:00+00:00  1799816.0         8     6\n",
       "2022-06-23 07:00:00+00:00  1799878.0         7     7\n",
       "2022-06-23 08:00:00+00:00  1799937.0         4     8\n",
       "2022-06-23 09:00:00+00:00  1799998.0         7     9\n",
       "2022-06-23 10:00:00+00:00  1800000.0         2    10\n",
       "\n",
       "[30114 rows x 3 columns]"
      ]
     },
     "execution_count": 12,
     "metadata": {},
     "output_type": "execute_result"
    }
   ],
   "source": [
    "df_hourly['hour'] =  df_hourly.index.hour\n",
    "df_hourly"
   ]
  },
  {
   "cell_type": "markdown",
   "id": "female-leisure",
   "metadata": {
    "ExecuteTime": {
     "end_time": "2022-07-08T18:10:22.334256Z",
     "start_time": "2022-07-08T18:10:22.323256Z"
    }
   },
   "source": [
    "We will use last n tx count values as input."
   ]
  },
  {
   "cell_type": "code",
   "execution_count": 13,
   "id": "disturbed-clarity",
   "metadata": {
    "ExecuteTime": {
     "end_time": "2022-07-09T06:57:35.088709Z",
     "start_time": "2022-07-09T06:57:35.073652Z"
    }
   },
   "outputs": [],
   "source": [
    "window = 12"
   ]
  },
  {
   "cell_type": "code",
   "execution_count": 14,
   "id": "rural-treat",
   "metadata": {
    "ExecuteTime": {
     "end_time": "2022-07-09T06:57:35.104275Z",
     "start_time": "2022-07-09T06:57:35.090649Z"
    }
   },
   "outputs": [
    {
     "data": {
      "text/plain": [
       "array([[ 0,  0,  0, ...,  0,  0,  0],\n",
       "       [ 0,  0,  0, ...,  0,  0,  0],\n",
       "       [ 0,  0,  0, ...,  0,  0,  0],\n",
       "       ...,\n",
       "       [ 3,  3, 14, ...,  8,  7,  4],\n",
       "       [ 3, 14, 17, ...,  7,  4,  7],\n",
       "       [14, 17,  6, ...,  4,  7,  2]], dtype=int64)"
      ]
     },
     "execution_count": 14,
     "metadata": {},
     "output_type": "execute_result"
    }
   ],
   "source": [
    "X = np.lib.stride_tricks.sliding_window_view(df_hourly.tx_count,window)\n",
    "X"
   ]
  },
  {
   "cell_type": "markdown",
   "id": "c440b756",
   "metadata": {},
   "source": [
    "We will add hour to our input Matrix"
   ]
  },
  {
   "cell_type": "code",
   "execution_count": 15,
   "id": "fb012cf4",
   "metadata": {
    "ExecuteTime": {
     "end_time": "2022-07-09T06:57:35.119612Z",
     "start_time": "2022-07-09T06:57:35.106280Z"
    }
   },
   "outputs": [
    {
     "data": {
      "text/plain": [
       "array([[ 0,  0,  0, ...,  0,  0,  4],\n",
       "       [ 0,  0,  0, ...,  0,  0,  5],\n",
       "       [ 0,  0,  0, ...,  0,  0,  6],\n",
       "       ...,\n",
       "       [ 3,  3, 14, ...,  7,  4,  8],\n",
       "       [ 3, 14, 17, ...,  4,  7,  9],\n",
       "       [14, 17,  6, ...,  7,  2, 10]], dtype=int64)"
      ]
     },
     "execution_count": 15,
     "metadata": {},
     "output_type": "execute_result"
    }
   ],
   "source": [
    "X = np.hstack((X, df_hourly['hour'].values[window-1:].reshape(-1,1)))\n",
    "X"
   ]
  },
  {
   "cell_type": "markdown",
   "id": "54d0caac",
   "metadata": {},
   "source": [
    "Our target is tx_count shifted -1 to get next tx count for each window of tx_counts."
   ]
  },
  {
   "cell_type": "code",
   "execution_count": 16,
   "id": "hawaiian-heart",
   "metadata": {
    "ExecuteTime": {
     "end_time": "2022-07-09T06:57:35.135346Z",
     "start_time": "2022-07-09T06:57:35.121124Z"
    }
   },
   "outputs": [
    {
     "data": {
      "text/plain": [
       "timestamp\n",
       "2019-01-16 04:00:00+00:00    0.0\n",
       "2019-01-16 05:00:00+00:00    0.0\n",
       "2019-01-16 06:00:00+00:00    0.0\n",
       "2019-01-16 07:00:00+00:00    0.0\n",
       "2019-01-16 08:00:00+00:00    0.0\n",
       "                            ... \n",
       "2022-06-23 06:00:00+00:00    7.0\n",
       "2022-06-23 07:00:00+00:00    4.0\n",
       "2022-06-23 08:00:00+00:00    7.0\n",
       "2022-06-23 09:00:00+00:00    2.0\n",
       "2022-06-23 10:00:00+00:00    NaN\n",
       "Freq: H, Name: tx_count, Length: 30103, dtype: float64"
      ]
     },
     "execution_count": 16,
     "metadata": {},
     "output_type": "execute_result"
    }
   ],
   "source": [
    "y = df_hourly.tx_count.shift(-1)[window-1:]\n",
    "y"
   ]
  },
  {
   "cell_type": "code",
   "execution_count": 17,
   "id": "33716c33",
   "metadata": {
    "ExecuteTime": {
     "end_time": "2022-07-09T06:57:35.150868Z",
     "start_time": "2022-07-09T06:57:35.135850Z"
    }
   },
   "outputs": [
    {
     "data": {
      "text/plain": [
       "(30103, 13)"
      ]
     },
     "execution_count": 17,
     "metadata": {},
     "output_type": "execute_result"
    }
   ],
   "source": [
    "X.shape"
   ]
  },
  {
   "cell_type": "code",
   "execution_count": 18,
   "id": "17c8d18c",
   "metadata": {
    "ExecuteTime": {
     "end_time": "2022-07-09T06:57:35.166792Z",
     "start_time": "2022-07-09T06:57:35.151856Z"
    }
   },
   "outputs": [
    {
     "data": {
      "text/plain": [
       "(30103,)"
      ]
     },
     "execution_count": 18,
     "metadata": {},
     "output_type": "execute_result"
    }
   ],
   "source": [
    "y.shape"
   ]
  },
  {
   "cell_type": "markdown",
   "id": "45a6d34d",
   "metadata": {},
   "source": [
    "Last element of y is NaN so we need to drop it for both X and Y"
   ]
  },
  {
   "cell_type": "code",
   "execution_count": 19,
   "id": "23fcd781",
   "metadata": {
    "ExecuteTime": {
     "end_time": "2022-07-09T06:57:35.182753Z",
     "start_time": "2022-07-09T06:57:35.167806Z"
    }
   },
   "outputs": [
    {
     "data": {
      "text/plain": [
       "((30102, 13), (30102,))"
      ]
     },
     "execution_count": 19,
     "metadata": {},
     "output_type": "execute_result"
    }
   ],
   "source": [
    "X = X[:-1,:]\n",
    "y = y[:-1]\n",
    "X.shape,y.shape"
   ]
  },
  {
   "cell_type": "markdown",
   "id": "2b388fc4",
   "metadata": {},
   "source": [
    "Split dataset to train, validation and test sets"
   ]
  },
  {
   "cell_type": "code",
   "execution_count": 20,
   "id": "fadf19e6",
   "metadata": {
    "ExecuteTime": {
     "end_time": "2022-07-09T06:57:35.197609Z",
     "start_time": "2022-07-09T06:57:35.184351Z"
    }
   },
   "outputs": [],
   "source": [
    "X_train = X[6000:25000,:]\n",
    "y_train = y[6000:25000]\n",
    "X_test  = X[27501:,:]\n",
    "y_test  = y[27501:]\n"
   ]
  },
  {
   "cell_type": "code",
   "execution_count": 21,
   "id": "d83ae50a",
   "metadata": {
    "ExecuteTime": {
     "end_time": "2022-07-09T06:57:35.713486Z",
     "start_time": "2022-07-09T06:57:35.199609Z"
    }
   },
   "outputs": [],
   "source": [
    "from sklearn.ensemble import HistGradientBoostingRegressor"
   ]
  },
  {
   "cell_type": "code",
   "execution_count": 22,
   "id": "ecffcdb3",
   "metadata": {
    "ExecuteTime": {
     "end_time": "2022-07-09T06:57:40.352114Z",
     "start_time": "2022-07-09T06:57:35.714480Z"
    }
   },
   "outputs": [
    {
     "name": "stdout",
     "output_type": "stream",
     "text": [
      "train score: 0.77\n",
      "test score: 0.13\n"
     ]
    }
   ],
   "source": [
    "learning_rate= 0.01\n",
    "l2_reg = 0.001\n",
    "val_fraction=0.2\n",
    "max_iter = 100000\n",
    "categorical_features = [False] * window\n",
    "categorical_features.append(True)\n",
    "est = HistGradientBoostingRegressor(learning_rate=learning_rate,\n",
    "                                    validation_fraction=val_fraction,\n",
    "                                    l2_regularization=l2_reg,\n",
    "                                    max_iter= max_iter\n",
    "                                   )\n",
    "est.fit(X_train,y_train)\n",
    "print(f\"train score: {est.score(X_train,y_train):0.2f}\") \n",
    "print(f\"test score: {est.score(X_test,y_test):0.2f}\") "
   ]
  },
  {
   "cell_type": "markdown",
   "id": "7a8c8c0a",
   "metadata": {},
   "source": [
    "Plot estimated and correct Tx counts."
   ]
  },
  {
   "cell_type": "code",
   "execution_count": 24,
   "id": "09c4888a",
   "metadata": {
    "ExecuteTime": {
     "end_time": "2022-07-09T06:58:42.526423Z",
     "start_time": "2022-07-09T06:58:42.314500Z"
    }
   },
   "outputs": [
    {
     "data": {
      "image/png": "[encoded data removed]",
      "text/plain": [
       "<Figure size 1152x576 with 1 Axes>"
      ]
     },
     "metadata": {
      "needs_background": "light"
     },
     "output_type": "display_data"
    }
   ],
   "source": [
    "y_pred = est.predict(X_test)\n",
    "plt.figure(figsize=(16,8))\n",
    "plt.plot(y_test[-100:].values,'--g',label='correct')\n",
    "plt.plot(y_pred[-100:],'k',label='estimated')\n",
    "plt.ylabel(\"Tx count\")\n",
    "plt.xlabel(\"Time step\")\n",
    "_=plt.legend()"
   ]
  },
  {
   "cell_type": "markdown",
   "id": "580eb211",
   "metadata": {},
   "source": [
    "Let's train with different parameters beginning with window parameter. A larger window should give better estimates."
   ]
  },
  {
   "cell_type": "code",
   "execution_count": 25,
   "id": "0230d64e",
   "metadata": {
    "ExecuteTime": {
     "end_time": "2022-07-09T06:58:46.558586Z",
     "start_time": "2022-07-09T06:58:46.540429Z"
    },
    "code_folding": [
     0
    ]
   },
   "outputs": [],
   "source": [
    "# Generate input based on window parameter\n",
    "def generate_datasets(window):\n",
    "    X = np.lib.stride_tricks.sliding_window_view(df_hourly.tx_count,window)\n",
    "    X = np.hstack((X, df_hourly['hour'].values[window-1:].reshape(-1,1)))\n",
    "    y = df_hourly.tx_count.shift(-1)[window-1:]\n",
    "    X = X[:-1,:]\n",
    "    y = y[:-1]\n",
    "    X_train = X[6000:25000,:]\n",
    "    y_train = y[6000:25000]\n",
    "    X_test  = X[28001:,:]\n",
    "    y_test  = y[28001:]\n",
    "    \n",
    "    return X_train,y_train,X_test,y_test    "
   ]
  },
  {
   "cell_type": "code",
   "execution_count": 26,
   "id": "27d0536f",
   "metadata": {
    "ExecuteTime": {
     "end_time": "2022-07-09T07:00:21.600655Z",
     "start_time": "2022-07-09T06:58:50.520034Z"
    }
   },
   "outputs": [
    {
     "name": "stdout",
     "output_type": "stream",
     "text": [
      "window : 76 : train score 0.85 , test_score 0.69\n"
     ]
    },
    {
     "data": {
      "image/png": "[encoded data removed]",
      "text/plain": [
       "<Figure size 1296x720 with 1 Axes>"
      ]
     },
     "metadata": {
      "needs_background": "light"
     },
     "output_type": "display_data"
    }
   ],
   "source": [
    "window = 76\n",
    "X_train,y_train,X_test,y_test = generate_datasets(window)\n",
    "learning_rate= 0.001\n",
    "l2_reg = 0.001\n",
    "val_fraction= 0.3\n",
    "max_iter = 100000\n",
    "est = HistGradientBoostingRegressor(learning_rate=learning_rate,\n",
    "                                    validation_fraction=val_fraction,\n",
    "                                    l2_regularization=l2_reg,\n",
    "                                    max_iter= max_iter                                   \n",
    "                                   )\n",
    "est.fit(X_train,y_train)\n",
    "print(f\"window : {window} : train score {est.score(X_train,y_train):0.2f} , test_score {est.score(X_test,y_test):0.2f}\")\n",
    "y_est = est.predict(X_test)\n",
    "plt.figure(figsize=(18,10))\n",
    "plt.plot(y_test[-300:].values,'.-g',label='correct',linewidth=0.5)\n",
    "plt.plot(y_est[-300:],'ok',label='estimated')\n",
    "plt.ylabel(\"Tx count\")\n",
    "plt.xlabel(\"Time step\")\n",
    "_ = plt.legend()"
   ]
  },
  {
   "cell_type": "code",
   "execution_count": null,
   "id": "1233efb1",
   "metadata": {},
   "outputs": [],
   "source": []
  },
  {
   "cell_type": "code",
   "execution_count": null,
   "id": "13c21183",
   "metadata": {},
   "outputs": [],
   "source": []
  },
  {
   "cell_type": "code",
   "execution_count": null,
   "id": "daa3f28d",
   "metadata": {},
   "outputs": [],
   "source": []
  },
  {
   "cell_type": "code",
   "execution_count": null,
   "id": "fc0075ca",
   "metadata": {},
   "outputs": [],
   "source": []
  }
 ],
 "metadata": {
  "kernelspec": {
   "display_name": "Python 3 (ipykernel)",
   "language": "python",
   "name": "python3"
  },
  "language_info": {
   "codemirror_mode": {
    "name": "ipython",
    "version": 3
   },
   "file_extension": ".py",
   "mimetype": "text/x-python",
   "name": "python",
   "nbconvert_exporter": "python",
   "pygments_lexer": "ipython3",
   "version": "3.8.8"
  },
  "toc": {
   "base_numbering": 1,
   "nav_menu": {},
   "number_sections": true,
   "sideBar": true,
   "skip_h1_title": false,
   "title_cell": "Table of Contents",
   "title_sidebar": "Contents",
   "toc_cell": false,
   "toc_position": {},
   "toc_section_display": true,
   "toc_window_display": false
  }
 },
 "nbformat": 4,
 "nbformat_minor": 5
}
